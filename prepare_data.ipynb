{
 "cells": [
  {
   "cell_type": "code",
   "execution_count": null,
   "metadata": {},
   "outputs": [],
   "source": [
    "import pandas as pd\n",
    "import os"
   ]
  },
  {
   "cell_type": "code",
   "execution_count": null,
   "metadata": {},
   "outputs": [],
   "source": [
    "mergedData = pd.DataFrame()\n",
    "folder = os.listdir('./dataFiles')\n",
    "notDone = True\n",
    "columns = ''\n",
    "\n",
    "for file in folder:\n",
    "    data = pd.read_csv('./dataFiles/' + file)\n",
    "    print(file)\n",
    "    \n",
    "    #setup that only needs to be run once\n",
    "    if(notDone):\n",
    "        columns = data.columns.tolist()\n",
    "        columns = columns[-1:] + columns[:-1]\n",
    "        mergedData = pd.DataFrame(columns = columns)\n",
    "        mergedData[\"id\"] = \"\"\n",
    "        notDone = False\n",
    "        \n",
    "    #make CSGM be the first column    \n",
    "    data = data[columns]\n",
    "    \n",
    "    #add Id to be used for k-fold validation\n",
    "    index = file.replace('.csv', '')\n",
    "    data['id'] = index\n",
    "    \n",
    "    #drop headers\n",
    "    data.drop(data.index[0])\n",
    "    \n",
    "    #append to output file\n",
    "    mergedData = mergedData.append(data)"
   ]
  },
  {
   "cell_type": "code",
   "execution_count": null,
   "metadata": {},
   "outputs": [],
   "source": [
    "#save\n",
    "mergedData.to_csv('./mergedData.csv', index=False)"
   ]
  },
  {
   "cell_type": "code",
   "execution_count": null,
   "metadata": {},
   "outputs": [],
   "source": [
    "mergedData.head()"
   ]
  }
 ],
 "metadata": {
  "kernelspec": {
   "display_name": "Python 3",
   "language": "python",
   "name": "python3"
  },
  "language_info": {
   "codemirror_mode": {
    "name": "ipython",
    "version": 3
   },
   "file_extension": ".py",
   "mimetype": "text/x-python",
   "name": "python",
   "nbconvert_exporter": "python",
   "pygments_lexer": "ipython3",
   "version": "3.6.3"
  }
 },
 "nbformat": 4,
 "nbformat_minor": 2
}
