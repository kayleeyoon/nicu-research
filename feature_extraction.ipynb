{
 "cells": [
  {
   "cell_type": "code",
   "execution_count": null,
   "metadata": {},
   "outputs": [],
   "source": [
    "import pandas as pd\n",
    "import math\n",
    "import numpy as np\n",
    "\n",
    "pd.set_option('display.max_columns', None) \n",
    "mWindow = 10 #in sec, but should eventually be in ms\n",
    "fWindow = 2 #in sec, but should eventually be in ms"
   ]
  },
  {
   "cell_type": "code",
   "execution_count": null,
   "metadata": {},
   "outputs": [],
   "source": [
    "rawData = pd.read_csv('./raw-data.csv')\n",
    "fullData = pd.DataFrame(columns=['Timestamp','m1','m2','m3','m4'])"
   ]
  },
  {
   "cell_type": "code",
   "execution_count": null,
   "metadata": {
    "scrolled": true
   },
   "outputs": [],
   "source": [
    "rawData.head(n=11)"
   ]
  },
  {
   "cell_type": "code",
   "execution_count": null,
   "metadata": {},
   "outputs": [],
   "source": [
    "i=0\n",
    "for row in rawData.itertuples():\n",
    "    m1 = math.sqrt(row[2]**2 + row[3]**2 + row[4]**2)\n",
    "    m2 = math.sqrt(row[5]**2 + row[6]**2 + row[7]**2)\n",
    "    m3 = math.sqrt(row[8]**2 + row[9]**2 + row[10]**2)\n",
    "    m4 = math.sqrt(row[11]**2 + row[12]**2 + row[13]**2) \n",
    "    rawData.at[i, 'm1'] = m1\n",
    "    rawData.at[i, 'm2'] = m2\n",
    "    rawData.at[i, 'm3'] = m3\n",
    "    rawData.at[i, 'm4'] = m4\n",
    "    i += 1"
   ]
  },
  {
   "cell_type": "code",
   "execution_count": null,
   "metadata": {},
   "outputs": [],
   "source": [
    "#subtract the mean from the data within a time window centered around the current sample\n",
    "for row in rawData.itertuples():\n",
    "    centerTime = row.Timestamp\n",
    "    i = row.Index\n",
    "    laterNotDone = True\n",
    "    beforeNotDone = True\n",
    "    m1List = [row.m1]\n",
    "    m2List = [row.m2]\n",
    "    m3List = [row.m3]\n",
    "    m4List = [row.m4]\n",
    "    x = 1\n",
    "    \n",
    "    while beforeNotDone and i-x >= 0:\n",
    "        if centerTime - rawData.loc[i-x].Timestamp <= mWindow/2 :\n",
    "            m1List.append(rawData.loc[i-x].m1)\n",
    "            m2List.append(rawData.loc[i-x].m2)\n",
    "            m3List.append(rawData.loc[i-x].m3)\n",
    "            m4List.append(rawData.loc[i-x].m4)\n",
    "            x += 1\n",
    "        else:\n",
    "            beforeNotDone = False\n",
    "            x = 1\n",
    "            \n",
    "    while laterNotDone and i + x < len(rawData):\n",
    "        if rawData.loc[i+x].Timestamp - centerTime <= mWindow/2 :\n",
    "            m1List.append(rawData.loc[i+x].m1)\n",
    "            m2List.append(rawData.loc[i+x].m2)\n",
    "            m3List.append(rawData.loc[i+x].m3)\n",
    "            m4List.append(rawData.loc[i+x].m4)\n",
    "            x += 1\n",
    "        else:\n",
    "            laterNotDone = False\n",
    "            x = 1\n",
    "            \n",
    "    m1 = row.m1 - np.mean(m1List)\n",
    "    m2 = row.m2 - np.mean(m2List)\n",
    "    m3 = row.m3 - np.mean(m3List)\n",
    "    m4 = row.m4 - np.mean(m4List)\n",
    "    \n",
    "    fullData = fullData.append({'Timestamp': row.Timestamp, 'm1': m1, 'm2':m2, 'm3':m3, 'm4':m4}, ignore_index=True)"
   ]
  },
  {
   "cell_type": "code",
   "execution_count": null,
   "metadata": {},
   "outputs": [],
   "source": [
    "#calculate max and prod for each row\n",
    "for row in fullData.itertuples():  \n",
    "    i = row.Index\n",
    "    maxm1m2 = max(row.m1, row.m2)\n",
    "    maxm3m4 = max(row.m3, row.m4)\n",
    "    maxm1m3 = max(row.m1, row.m3)\n",
    "    maxm2m4 = max(row.m2, row.m4)\n",
    "    maxall = max(row.m1, row.m2, row.m3, row.m4)\n",
    "    prodm1m2 = row.m1 * row.m2\n",
    "    prodm3m4 = row.m3 * row.m4\n",
    "    prodm1m3 = row.m1 * row.m3\n",
    "    prodm2m4 = row.m2 * row.m4\n",
    "    prodall = row.m1 * row.m2 * row.m3 * row.m4\n",
    "    fullData.at[i, 'maxm1m2'] = maxm1m2\n",
    "    fullData.at[i, 'maxm3m4'] = maxm3m4\n",
    "    fullData.at[i, 'maxm1m3'] = maxm1m3\n",
    "    fullData.at[i, 'maxm2m4'] = maxm2m4\n",
    "    fullData.at[i, 'maxall'] = maxall\n",
    "    fullData.at[i, 'prodm1m2'] = prodm1m2\n",
    "    fullData.at[i, 'prodm3m4'] = prodm3m4\n",
    "    fullData.at[i, 'prodm1m3'] = prodm1m2\n",
    "    fullData.at[i, 'prodm2m4'] = prodm3m4\n",
    "    fullData.at[i, 'prodall'] = prodall"
   ]
  },
  {
   "cell_type": "code",
   "execution_count": null,
   "metadata": {},
   "outputs": [],
   "source": [
    "#calculate the mean, max, min, standard deviation, and z-score \n",
    "#from data within a time window centered around the current sample\n",
    "for row in fullData.itertuples(): \n",
    "    i = row.Index\n",
    "    centerTime = row.Timestamp\n",
    "    laterNotDone = True\n",
    "    beforeNotDone = True\n",
    "    x = 1\n",
    "    \n",
    "    m1List = [row.m1]\n",
    "    m2List = [row.m2]\n",
    "    m3List = [row.m3]\n",
    "    m4List = [row.m4]\n",
    "    maxm1m2List = [row.maxm1m2]\n",
    "    maxm3m4List = [row.maxm3m4]\n",
    "    maxm1m3List = [row.maxm1m3]\n",
    "    maxm2m4List = [row.maxm2m4]\n",
    "    maxallList = [row.maxall]\n",
    "    prodm1m2List = [row.prodm1m2]\n",
    "    prodm3m4List = [row.prodm3m4]\n",
    "    prodm1m3List = [row.prodm1m3]\n",
    "    prodm2m4List = [row.prodm2m4]\n",
    "    prodallList = [row.prodall]\n",
    "    featureNames = ['m1','m2','m3','m4','maxm1m2','maxm3m4','maxm1m3','maxm2m4',\n",
    "                    'maxall','prodm1m2','prodm3m4','prodm1m3','prodm2m4','prodall'] \n",
    "    featureList = [m1List,m2List,m3List,m4List,maxm1m2List,maxm3m4List,maxm1m3List,maxm2m4List,maxallList,\n",
    "                   prodm1m2List,prodm3m4List,prodm1m3List,prodm2m4List,prodallList] \n",
    "    \n",
    "    while beforeNotDone and i - x  >= 0:\n",
    "        if centerTime - fullData.loc[i-x].Timestamp <= fWindow/2 :\n",
    "            nameIndex = 0\n",
    "            for ftList in featureList:\n",
    "                ft = featureNames[nameIndex]\n",
    "                ftList.append(fullData.loc[i-x][ft])\n",
    "                nameIndex += 1\n",
    "            x += 1\n",
    "        else:\n",
    "            beforeNotDone = False\n",
    "            x = 1\n",
    "            \n",
    "    while laterNotDone and i + x < len(fullData):\n",
    "        if fullData.loc[i+x].Timestamp - centerTime <= fWindow/2 :\n",
    "            nameIndex = 0\n",
    "            for ftList in featureList:\n",
    "                ft = str(featureNames[nameIndex])\n",
    "                ftList.append(fullData.loc[i+x][ft])\n",
    "                nameIndex += 1\n",
    "            x += 1\n",
    "        else:\n",
    "            laterNotDone = False\n",
    "            x = 1\n",
    "            \n",
    "    nameIndex = 0        \n",
    "    for ftList in featureList:\n",
    "        ft = featureNames[nameIndex]\n",
    "        std = np.std(ftList)\n",
    "        mean = np.mean(ftList)\n",
    "        meanft = 'mean_' + ft\n",
    "        maxft = 'max_' + ft\n",
    "        minft = 'min_' + ft\n",
    "        sdft = 'sd_' + ft\n",
    "        zft = 'z_' + ft\n",
    "        fullData.at[i, meanft] = mean\n",
    "        fullData.at[i, maxft] = max(ftList)\n",
    "        fullData.at[i, minft] = min(ftList)\n",
    "        fullData.at[i, sdft] = std\n",
    "        fullData.at[i, zft] = np.divide(fullData.loc[i][ft] - mean, std, where=std!=0)\n",
    "        nameIndex += 1"
   ]
  },
  {
   "cell_type": "code",
   "execution_count": null,
   "metadata": {},
   "outputs": [],
   "source": [
    "fullData.head()"
   ]
  },
  {
   "cell_type": "code",
   "execution_count": null,
   "metadata": {},
   "outputs": [],
   "source": [
    "fullData.to_csv('testOutput.csv', index=False)"
   ]
  },
  {
   "cell_type": "code",
   "execution_count": null,
   "metadata": {},
   "outputs": [],
   "source": []
  }
 ],
 "metadata": {
  "kernelspec": {
   "display_name": "Python 3",
   "language": "python",
   "name": "python3"
  },
  "language_info": {
   "codemirror_mode": {
    "name": "ipython",
    "version": 3
   },
   "file_extension": ".py",
   "mimetype": "text/x-python",
   "name": "python",
   "nbconvert_exporter": "python",
   "pygments_lexer": "ipython3",
   "version": "3.6.3"
  }
 },
 "nbformat": 4,
 "nbformat_minor": 2
}
